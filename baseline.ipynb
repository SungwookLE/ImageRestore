{
 "cells": [
  {
   "cell_type": "code",
   "execution_count": null,
   "metadata": {},
   "outputs": [],
   "source": [
    "import random\n",
    "import pandas as pd\n",
    "import numpy as np\n",
    "import os\n",
    "import cv2\n",
    "import zipfile\n",
    "import math\n",
    "import glob\n",
    "\n",
    "import torch\n",
    "import torch.nn as nn\n",
    "import torch.optim as optim\n",
    "import torch.nn.functional as F\n",
    "from torch.utils.data import Dataset, DataLoader\n",
    "\n",
    "from tqdm.auto import tqdm\n",
    "import albumentations as A\n",
    "from albumentations.pytorch.transforms import ToTensorV2\n",
    "\n",
    "import torchvision.models as models\n",
    "from torchvision import transforms\n",
    "\n",
    "import warnings"
   ]
  },
  {
   "cell_type": "code",
   "execution_count": null,
   "metadata": {},
   "outputs": [],
   "source": [
    "# paper: https://arxiv.org/abs/1501.00092\n",
    "# https://dacon.io/competitions/official/236168/codeshare/8907?page=1&dtype=recent"
   ]
  },
  {
   "cell_type": "code",
   "execution_count": null,
   "metadata": {},
   "outputs": [],
   "source": [
    "device = torch.device('cuda') if torch.cuda.is_available() else torch.device(\"cpu\")"
   ]
  },
  {
   "cell_type": "code",
   "execution_count": null,
   "metadata": {},
   "outputs": [],
   "source": [
    "CFG = {\n",
    "    'IMG_SIZE':1024,\n",
    "    'EPOCHS':30,\n",
    "    'LEARNING_RATE':1e-4,\n",
    "    'BATCH_SIZE':4,\n",
    "    'SEED':41\n",
    "}"
   ]
  },
  {
   "cell_type": "code",
   "execution_count": null,
   "metadata": {},
   "outputs": [],
   "source": [
    "def seed_everything(seed):\n",
    "    random.seed(seed)\n",
    "    os.environ[\"PYTHONHASHSEED\"] = str(seed)\n",
    "    np.random.seed(seed)\n",
    "    torch.manual_seed(seed)\n",
    "    torch.cuda.manual_seed(seed)\n",
    "    torch.backends.cudnn.deterministic = True\n",
    "    torch.backends.cudnn.benchmark = True\n",
    "\n",
    "seed_everything(CFG[\"SEED\"]) # seed 고정"
   ]
  },
  {
   "cell_type": "code",
   "execution_count": null,
   "metadata": {},
   "outputs": [],
   "source": [
    "train_lr_paths = sorted(glob.glob(\"./data/train/lr/*.jpg\"))\n",
    "train_hr_paths = sorted(glob.glob(\"./data/train/hr/*.jpg\"))\n",
    "\n",
    "test_lr_paths = sorted(glob.glob(\"./data/test/lr/*.jpg\"))"
   ]
  },
  {
   "cell_type": "code",
   "execution_count": null,
   "metadata": {},
   "outputs": [],
   "source": [
    "def show_img():\n",
    "    for i in range(3):\n",
    "        filepath = random.choice(train_lr_paths)\n",
    "        filename_lr = filepath.split('/')[-1]\n",
    "        filepath_hr = \"./data/train/hr/\" + filename_lr\n",
    "\n",
    "        mat_lr = cv2.imread(filepath) # 256 256 3\n",
    "        mat_hr = cv2.imread(filepath_hr) # 1024 1024 3\n",
    "        cv2.imshow(f\"lr {mat_lr.shape}\", mat_lr)\n",
    "        cv2.imshow(f\"hr {mat_hr.shape}\", mat_hr)\n",
    "        cv2.waitKey(0)\n",
    "        cv2.destroyAllWindows()\n",
    "\n",
    "show_img()"
   ]
  },
  {
   "cell_type": "code",
   "execution_count": null,
   "metadata": {},
   "outputs": [],
   "source": [
    "class CustomDataset(Dataset):\n",
    "    def __init__(self, lr_paths, hr_paths, transforms, train_mode):\n",
    "        self.lr_paths = lr_paths \n",
    "        self.hr_paths = hr_paths\n",
    "        self.transforms = transforms\n",
    "        self.train_mode = train_mode\n",
    "\n",
    "    def __getitem__(self, index):\n",
    "        lr_path = self.lr_paths[index]\n",
    "        lr_img = cv2.imread(lr_path)\n",
    "        lr_img = cv2.resize(lr_img, (CFG[\"IMG_SIZE\"], CFG[\"IMG_SIZE\"]), interpolation=cv2.INTER_CUBIC)\n",
    "\n",
    "        if self.train_mode:\n",
    "            hr_path = self.hr_paths[index]\n",
    "            hr_img = cv2.imread(hr_path)\n",
    "            if self.transforms is not None:\n",
    "                transformed = self.transforms(image=lr_img, label=hr_img)\n",
    "                lr_img = transformed['image'] / 255.\n",
    "                hr_img = transformed['label'] / 255.\n",
    "            return lr_img, hr_img\n",
    "        \n",
    "        else:\n",
    "            file_name = lr_path.split('/')[-1]\n",
    "            if self.transforms is not None:\n",
    "                transformed = self.transforms(image=lr_img)\n",
    "                lr_img = transformed['image'] / 255.\n",
    "            \n",
    "            return lr_img, file_name\n",
    "        \n",
    "\n",
    "    def __len__(self):\n",
    "        return len(self.lr_paths)\n",
    "        \n",
    "        "
   ]
  },
  {
   "cell_type": "code",
   "execution_count": null,
   "metadata": {},
   "outputs": [],
   "source": [
    "def get_train_transform():\n",
    "    return A.Compose([\n",
    "        ToTensorV2(p=1.0)],\n",
    "        additional_targets={'image': 'image', 'label': 'image'}\n",
    "    )\n",
    "\n",
    "def get_test_transform():\n",
    "    return A.Compose([\n",
    "        ToTensorV2(p=1.0)], #역할이 뭐지\n",
    "        additional_targets={'image': 'image', 'label': 'image'}\n",
    "    )"
   ]
  },
  {
   "cell_type": "code",
   "execution_count": null,
   "metadata": {},
   "outputs": [],
   "source": [
    "train_dataset = CustomDataset(train_lr_paths, train_hr_paths, get_train_transform(), True)\n",
    "train_loader = DataLoader(train_dataset, batch_size = CFG['BATCH_SIZE'], shuffle=True)\n",
    "\n",
    "test_dataset = CustomDataset(test_lr_paths, None, get_test_transform(), False)\n",
    "test_loader = DataLoader(test_dataset, batch_size = CFG['BATCH_SIZE'], shuffle=False)"
   ]
  },
  {
   "cell_type": "code",
   "execution_count": null,
   "metadata": {},
   "outputs": [],
   "source": [
    "class SRCNN(nn.Module):\n",
    "    def __init__(self, num_channels = 3, feature_dim = 64, map_dim = 32):\n",
    "        super(SRCNN, self).__init__()\n",
    "\n",
    "        # Feature extraction layer.\n",
    "        self.features = nn.Sequential(\n",
    "            nn.Conv2d(num_channels, feature_dim, (9,9), (1,1), (4,4)),\n",
    "            nn.ReLU()\n",
    "        )\n",
    "\n",
    "        # Non-linear mapping layer.\n",
    "        self.map = nn.Sequential(\n",
    "            nn.Conv2d(feature_dim, map_dim, (5,5), (1,1), (2,2)),\n",
    "            nn.ReLU()\n",
    "        )\n",
    "\n",
    "        # Rebuild the layer.\n",
    "        self.reconstruction = nn.Conv2d(map_dim, num_channels, (5,5), (1,1), (2,2))\n",
    "\n",
    "        # Initialize model weights\n",
    "        self._initialize_weights()\n",
    "\n",
    "    def forward(self, x):\n",
    "        out = self.features(x)\n",
    "        out = self.map(out)\n",
    "        out = self.reconstruction(out)\n",
    "        return out\n",
    "    \n",
    "    # The filter weight of each layer is a Gaussian distribution with zero mean and\n",
    "    # standard deviation initailized by random extraction 0.001 (deviation is 0)\n",
    "\n",
    "    def _initialize_weights(self) -> None:\n",
    "        for module in self.modules():\n",
    "            if isinstance(module, nn.Conv2d):\n",
    "                nn.init.normal_(module.weight.data, 0.0, math.sqrt( 2 / (module.out_channels * module.weight.data[0][0].numel())))\n",
    "                nn.init.zeros_(module.bias.data)\n",
    "\n",
    "            nn.init.normal_(self.reconstruction.weight.data, 0.0, 0.001)\n",
    "            nn.init.zeros_(self.reconstruction.bias.data)"
   ]
  },
  {
   "cell_type": "code",
   "execution_count": null,
   "metadata": {},
   "outputs": [],
   "source": [
    "def train(model, optimizer, train_loader, scheduler, device):\n",
    "    model.to(device)\n",
    "    criterion = nn.MSELoss().to(device)\n",
    "    best_model = None\n",
    "    best_loss = 9999\n",
    "\n",
    "    for epoch in range(1, CFG[\"EPOCHS\"] + 1):\n",
    "        model.train()\n",
    "        train_loss = []\n",
    "        for lr_img, hr_img in tqdm(iter(train_loader)):\n",
    "            lr_img, hr_img = lr_img.float().to(device), hr_img.float().to(device)\n",
    "\n",
    "            optimizer.zero_grad()\n",
    "\n",
    "            pred_hr_img = model(lr_img)\n",
    "            loss = criterion(pred_hr_img, hr_img)\n",
    "\n",
    "            loss.backward()\n",
    "            optimizer.step()\n",
    "\n",
    "            train_loss.append(loss.item())\n",
    "\n",
    "        if scheduler is not None:\n",
    "            scheduler.step()\n",
    "        \n",
    "        _train_loss = np.mean(train_loss)\n",
    "        print(f\"Epoch: [{epoch}] Train Loss: [{_train_loss:.5f}]\")\n",
    "\n",
    "        if best_loss > _train_loss:\n",
    "            best_loss = _train_loss\n",
    "            best_model = model\n",
    "\n",
    "    return best_model\n",
    "\n",
    "\n"
   ]
  },
  {
   "cell_type": "code",
   "execution_count": null,
   "metadata": {},
   "outputs": [],
   "source": [
    "model = SRCNN()\n",
    "model.eval()\n",
    "\n",
    "optimizer = torch.optim.Adam(params = model.parameters(), lr = CFG[\"LEARNING_RATE\"])\n",
    "scheduler = torch.optim.lr_scheduler.StepLR(optimizer, step_size = 5, gamma = 0.5)\n",
    "\n",
    "infer_model = train(model, optimizer, train_loader, scheduler, device)"
   ]
  },
  {
   "cell_type": "code",
   "execution_count": null,
   "metadata": {},
   "outputs": [],
   "source": [
    "def inference(model, test_loader, device):\n",
    "    model.to(device)\n",
    "    model.eval()\n",
    "    pred_img_list = []\n",
    "    name_list = []\n",
    "\n",
    "    with torch.no_grad():\n",
    "        for lr_img, file_name in tqdm(iter(test_loader)):\n",
    "            lr_img = lr_img.float().to(device)\n",
    "\n",
    "            pred_hr_img = model(lr_img)\n",
    "\n",
    "            for pred, name in zip(pred_hr_img, file_name):\n",
    "                pred = pred.cpu().clone().detach().numpy()\n",
    "                pred = pred.transpose(1,2,0)\n",
    "                pred = pred * 255\n",
    "\n",
    "                pred_img_list.append(pred.astype('uint8'))\n",
    "                name_list.append(name)\n",
    "        \n",
    "    return pred_img_list, name_list"
   ]
  },
  {
   "cell_type": "code",
   "execution_count": null,
   "metadata": {},
   "outputs": [],
   "source": [
    "pred_img_list, pred_name_list = inference(infer_model, test_loader, device)\n"
   ]
  },
  {
   "cell_type": "code",
   "execution_count": null,
   "metadata": {},
   "outputs": [],
   "source": [
    "os.makedirs('./submission', exist_ok=True)\n",
    "os.chdir(\"./submission/\")\n",
    "sub_imgs = []\n",
    "for path, pred_img in tqdm(zip(pred_name_list, pred_img_list)):\n",
    "    cv2.imwrite(path, pred_img)\n",
    "    sub_imgs.append(path)\n",
    "submission = zipfile.ZipFile(\"../submission.zip\", 'w')\n",
    "for path in sub_imgs:\n",
    "    submission.write(path)\n",
    "submission.close()\n",
    "print('Done.')"
   ]
  }
 ],
 "metadata": {
  "kernelspec": {
   "display_name": "dacon22",
   "language": "python",
   "name": "python3"
  },
  "language_info": {
   "codemirror_mode": {
    "name": "ipython",
    "version": 3
   },
   "file_extension": ".py",
   "mimetype": "text/x-python",
   "name": "python",
   "nbconvert_exporter": "python",
   "pygments_lexer": "ipython3",
   "version": "3.7.16"
  }
 },
 "nbformat": 4,
 "nbformat_minor": 2
}
